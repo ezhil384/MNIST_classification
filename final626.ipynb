{
  "cells": [
    {
      "cell_type": "code",
      "source": [
        "!pip install numpy pandas matplotlib scikit-learn tensorflow gdown"
      ],
      "metadata": {
        "colab": {
          "base_uri": "https://localhost:8080/"
        },
        "id": "u35f0bwxaQ7V",
        "outputId": "d418bf7f-f031-4526-bdda-5eba18d9d584"
      },
      "execution_count": 3,
      "outputs": [
        {
          "output_type": "stream",
          "name": "stdout",
          "text": [
            "Requirement already satisfied: numpy in /usr/local/lib/python3.11/dist-packages (2.0.2)\n",
            "Requirement already satisfied: pandas in /usr/local/lib/python3.11/dist-packages (2.2.2)\n",
            "Requirement already satisfied: matplotlib in /usr/local/lib/python3.11/dist-packages (3.10.0)\n",
            "Requirement already satisfied: scikit-learn in /usr/local/lib/python3.11/dist-packages (1.6.1)\n",
            "Requirement already satisfied: tensorflow in /usr/local/lib/python3.11/dist-packages (2.18.0)\n",
            "Requirement already satisfied: gdown in /usr/local/lib/python3.11/dist-packages (5.2.0)\n",
            "Requirement already satisfied: python-dateutil>=2.8.2 in /usr/local/lib/python3.11/dist-packages (from pandas) (2.8.2)\n",
            "Requirement already satisfied: pytz>=2020.1 in /usr/local/lib/python3.11/dist-packages (from pandas) (2025.2)\n",
            "Requirement already satisfied: tzdata>=2022.7 in /usr/local/lib/python3.11/dist-packages (from pandas) (2025.2)\n",
            "Requirement already satisfied: contourpy>=1.0.1 in /usr/local/lib/python3.11/dist-packages (from matplotlib) (1.3.2)\n",
            "Requirement already satisfied: cycler>=0.10 in /usr/local/lib/python3.11/dist-packages (from matplotlib) (0.12.1)\n",
            "Requirement already satisfied: fonttools>=4.22.0 in /usr/local/lib/python3.11/dist-packages (from matplotlib) (4.57.0)\n",
            "Requirement already satisfied: kiwisolver>=1.3.1 in /usr/local/lib/python3.11/dist-packages (from matplotlib) (1.4.8)\n",
            "Requirement already satisfied: packaging>=20.0 in /usr/local/lib/python3.11/dist-packages (from matplotlib) (24.2)\n",
            "Requirement already satisfied: pillow>=8 in /usr/local/lib/python3.11/dist-packages (from matplotlib) (11.1.0)\n",
            "Requirement already satisfied: pyparsing>=2.3.1 in /usr/local/lib/python3.11/dist-packages (from matplotlib) (3.2.3)\n",
            "Requirement already satisfied: scipy>=1.6.0 in /usr/local/lib/python3.11/dist-packages (from scikit-learn) (1.14.1)\n",
            "Requirement already satisfied: joblib>=1.2.0 in /usr/local/lib/python3.11/dist-packages (from scikit-learn) (1.4.2)\n",
            "Requirement already satisfied: threadpoolctl>=3.1.0 in /usr/local/lib/python3.11/dist-packages (from scikit-learn) (3.6.0)\n",
            "Requirement already satisfied: absl-py>=1.0.0 in /usr/local/lib/python3.11/dist-packages (from tensorflow) (1.4.0)\n",
            "Requirement already satisfied: astunparse>=1.6.0 in /usr/local/lib/python3.11/dist-packages (from tensorflow) (1.6.3)\n",
            "Requirement already satisfied: flatbuffers>=24.3.25 in /usr/local/lib/python3.11/dist-packages (from tensorflow) (25.2.10)\n",
            "Requirement already satisfied: gast!=0.5.0,!=0.5.1,!=0.5.2,>=0.2.1 in /usr/local/lib/python3.11/dist-packages (from tensorflow) (0.6.0)\n",
            "Requirement already satisfied: google-pasta>=0.1.1 in /usr/local/lib/python3.11/dist-packages (from tensorflow) (0.2.0)\n",
            "Requirement already satisfied: libclang>=13.0.0 in /usr/local/lib/python3.11/dist-packages (from tensorflow) (18.1.1)\n",
            "Requirement already satisfied: opt-einsum>=2.3.2 in /usr/local/lib/python3.11/dist-packages (from tensorflow) (3.4.0)\n",
            "Requirement already satisfied: protobuf!=4.21.0,!=4.21.1,!=4.21.2,!=4.21.3,!=4.21.4,!=4.21.5,<6.0.0dev,>=3.20.3 in /usr/local/lib/python3.11/dist-packages (from tensorflow) (5.29.4)\n",
            "Requirement already satisfied: requests<3,>=2.21.0 in /usr/local/lib/python3.11/dist-packages (from tensorflow) (2.32.3)\n",
            "Requirement already satisfied: setuptools in /usr/local/lib/python3.11/dist-packages (from tensorflow) (75.2.0)\n",
            "Requirement already satisfied: six>=1.12.0 in /usr/local/lib/python3.11/dist-packages (from tensorflow) (1.17.0)\n",
            "Requirement already satisfied: termcolor>=1.1.0 in /usr/local/lib/python3.11/dist-packages (from tensorflow) (3.0.1)\n",
            "Requirement already satisfied: typing-extensions>=3.6.6 in /usr/local/lib/python3.11/dist-packages (from tensorflow) (4.13.2)\n",
            "Requirement already satisfied: wrapt>=1.11.0 in /usr/local/lib/python3.11/dist-packages (from tensorflow) (1.17.2)\n",
            "Requirement already satisfied: grpcio<2.0,>=1.24.3 in /usr/local/lib/python3.11/dist-packages (from tensorflow) (1.71.0)\n",
            "Requirement already satisfied: tensorboard<2.19,>=2.18 in /usr/local/lib/python3.11/dist-packages (from tensorflow) (2.18.0)\n",
            "Requirement already satisfied: keras>=3.5.0 in /usr/local/lib/python3.11/dist-packages (from tensorflow) (3.8.0)\n",
            "Requirement already satisfied: h5py>=3.11.0 in /usr/local/lib/python3.11/dist-packages (from tensorflow) (3.13.0)\n",
            "Requirement already satisfied: ml-dtypes<0.5.0,>=0.4.0 in /usr/local/lib/python3.11/dist-packages (from tensorflow) (0.4.1)\n",
            "Requirement already satisfied: tensorflow-io-gcs-filesystem>=0.23.1 in /usr/local/lib/python3.11/dist-packages (from tensorflow) (0.37.1)\n",
            "Requirement already satisfied: beautifulsoup4 in /usr/local/lib/python3.11/dist-packages (from gdown) (4.13.4)\n",
            "Requirement already satisfied: filelock in /usr/local/lib/python3.11/dist-packages (from gdown) (3.18.0)\n",
            "Requirement already satisfied: tqdm in /usr/local/lib/python3.11/dist-packages (from gdown) (4.67.1)\n",
            "Requirement already satisfied: wheel<1.0,>=0.23.0 in /usr/local/lib/python3.11/dist-packages (from astunparse>=1.6.0->tensorflow) (0.45.1)\n",
            "Requirement already satisfied: rich in /usr/local/lib/python3.11/dist-packages (from keras>=3.5.0->tensorflow) (13.9.4)\n",
            "Requirement already satisfied: namex in /usr/local/lib/python3.11/dist-packages (from keras>=3.5.0->tensorflow) (0.0.8)\n",
            "Requirement already satisfied: optree in /usr/local/lib/python3.11/dist-packages (from keras>=3.5.0->tensorflow) (0.15.0)\n",
            "Requirement already satisfied: charset-normalizer<4,>=2 in /usr/local/lib/python3.11/dist-packages (from requests<3,>=2.21.0->tensorflow) (3.4.1)\n",
            "Requirement already satisfied: idna<4,>=2.5 in /usr/local/lib/python3.11/dist-packages (from requests<3,>=2.21.0->tensorflow) (3.10)\n",
            "Requirement already satisfied: urllib3<3,>=1.21.1 in /usr/local/lib/python3.11/dist-packages (from requests<3,>=2.21.0->tensorflow) (2.3.0)\n",
            "Requirement already satisfied: certifi>=2017.4.17 in /usr/local/lib/python3.11/dist-packages (from requests<3,>=2.21.0->tensorflow) (2025.1.31)\n",
            "Requirement already satisfied: markdown>=2.6.8 in /usr/local/lib/python3.11/dist-packages (from tensorboard<2.19,>=2.18->tensorflow) (3.8)\n",
            "Requirement already satisfied: tensorboard-data-server<0.8.0,>=0.7.0 in /usr/local/lib/python3.11/dist-packages (from tensorboard<2.19,>=2.18->tensorflow) (0.7.2)\n",
            "Requirement already satisfied: werkzeug>=1.0.1 in /usr/local/lib/python3.11/dist-packages (from tensorboard<2.19,>=2.18->tensorflow) (3.1.3)\n",
            "Requirement already satisfied: soupsieve>1.2 in /usr/local/lib/python3.11/dist-packages (from beautifulsoup4->gdown) (2.6)\n",
            "Requirement already satisfied: PySocks!=1.5.7,>=1.5.6 in /usr/local/lib/python3.11/dist-packages (from requests[socks]->gdown) (1.7.1)\n",
            "Requirement already satisfied: MarkupSafe>=2.1.1 in /usr/local/lib/python3.11/dist-packages (from werkzeug>=1.0.1->tensorboard<2.19,>=2.18->tensorflow) (3.0.2)\n",
            "Requirement already satisfied: markdown-it-py>=2.2.0 in /usr/local/lib/python3.11/dist-packages (from rich->keras>=3.5.0->tensorflow) (3.0.0)\n",
            "Requirement already satisfied: pygments<3.0.0,>=2.13.0 in /usr/local/lib/python3.11/dist-packages (from rich->keras>=3.5.0->tensorflow) (2.18.0)\n",
            "Requirement already satisfied: mdurl~=0.1 in /usr/local/lib/python3.11/dist-packages (from markdown-it-py>=2.2.0->rich->keras>=3.5.0->tensorflow) (0.1.2)\n"
          ]
        }
      ]
    },
    {
      "cell_type": "code",
      "execution_count": 5,
      "metadata": {
        "colab": {
          "base_uri": "https://localhost:8080/",
          "height": 718
        },
        "id": "DC63530MPGTh",
        "outputId": "36df9169-4d01-46d7-ee57-a149e095b389"
      },
      "outputs": [
        {
          "output_type": "stream",
          "name": "stderr",
          "text": [
            "Downloading...\n",
            "From (original): https://drive.google.com/uc?id=1pkwfWNdkw_gzouqndFuNcb5CpPPJ2Q59\n",
            "From (redirected): https://drive.google.com/uc?id=1pkwfWNdkw_gzouqndFuNcb5CpPPJ2Q59&confirm=t&uuid=c7efd0b9-1adf-4838-b67c-7cbcd37df31c\n",
            "To: /content/training.csv\n",
            "100%|██████████| 110M/110M [00:00<00:00, 277MB/s] \n"
          ]
        },
        {
          "output_type": "display_data",
          "data": {
            "text/plain": [
              "<Figure size 600x600 with 9 Axes>"
            ],
            "image/png": "[encoded data removed]"
          },
          "metadata": {}
        }
      ],
      "source": [
        "import numpy as np\n",
        "import pandas as pd\n",
        "import matplotlib.pyplot as plt\n",
        "from sklearn.linear_model import LogisticRegression\n",
        "from sklearn.model_selection import train_test_split\n",
        "from sklearn.metrics import accuracy_score\n",
        "from tensorflow.keras.models import Sequential\n",
        "from tensorflow.keras.layers import Conv2D, MaxPooling2D, Flatten, Dense, Dropout\n",
        "from tensorflow.keras.utils import to_categorical\n",
        "from tensorflow.keras.optimizers import Adam\n",
        "import gdown\n",
        "\n",
        "# -----------------------------------\n",
        "# 1. Load and Visualize Data\n",
        "# -----------------------------------\n",
        "def plot_digit(img_vector):\n",
        "    plt.imshow(img_vector.reshape(28, 28), cmap='gray')\n",
        "    plt.axis('off')\n",
        "\n",
        "# File ID from the shared link\n",
        "file_id = '1pkwfWNdkw_gzouqndFuNcb5CpPPJ2Q59'  # replace with your actual file ID\n",
        "url = f'https://drive.google.com/uc?id={file_id}'\n",
        "\n",
        "gdown.download(url, 'training.csv', quiet=False)\n",
        "\n",
        "# Load with pandas\n",
        "df = pd.read_csv('training.csv')\n",
        "df.head()\n",
        "# df = pd.read_csv(\"https://drive.google.com/file/d/1pkwfWNdkw_gzouqndFuNcb5CpPPJ2Q59/view?usp=sharing\")\n",
        "X = df.iloc[:, 1:].values\n",
        "y = df.iloc[:, 0].values\n",
        "\n",
        "# Plot sample digits\n",
        "plt.figure(figsize=(6, 6))\n",
        "for i in range(9):\n",
        "    plt.subplot(3, 3, i+1)\n",
        "    plot_digit(X[i])\n",
        "plt.tight_layout()\n",
        "plt.show()"
      ]
    },
    {
      "cell_type": "code",
      "execution_count": 6,
      "metadata": {
        "colab": {
          "base_uri": "https://localhost:8080/"
        },
        "id": "pC0-OPfQXMu4",
        "outputId": "9d5616b9-73f7-4881-e82a-f0b3a767b2ec"
      },
      "outputs": [
        {
          "output_type": "stream",
          "name": "stdout",
          "text": [
            "X shape: (60000, 784) y shape: (60000,)\n"
          ]
        }
      ],
      "source": [
        "# -----------------------------------\n",
        "# 2. Preprocess Data\n",
        "# -----------------------------------\n",
        "X_norm = X / 255.0\n",
        "print(\"X shape:\", X_norm.shape, \"y shape:\", y.shape)\n",
        "# Reshape for CNN: (num_samples, height, width, channels)\n",
        "X_cnn = X_norm.reshape(-1, 28, 28, 1)\n",
        "\n",
        "# One-hot encode labels for CNN\n",
        "y_cat = to_categorical(y, num_classes=10)\n",
        "\n",
        "# Split into training and validation sets\n",
        "from sklearn.model_selection import train_test_split\n",
        "X_train, X_val, y_train, y_val = train_test_split(X_cnn, y_cat, test_size=0.2, random_state=42)"
      ]
    },
    {
      "cell_type": "markdown",
      "source": [
        "## 🔧 Model Development and Tuning Process\n",
        "\n",
        "This section documents the process of developing and improving a supervised learning model for MNIST digit classification, starting from a simple baseline and iteratively refining it into a high-performing convolutional neural network (CNN).\n",
        "\n",
        "---\n",
        "\n",
        "### ✅ Step 1: Baseline Model — Logistic Regression\n",
        "\n",
        "To begin, I implemented a **logistic regression model** using Scikit-learn. The raw pixel values (28×28 = 784) were flattened and normalized to the range [0, 1].\n",
        "\n",
        "- **Model**: Multinomial logistic regression (`solver='lbfgs'`)\n",
        "- **Input**: Flattened vectors of size 784\n",
        "- **Validation Accuracy**: ~92.5%"
      ],
      "metadata": {
        "id": "ct0Y1XHEaJht"
      }
    },
    {
      "cell_type": "code",
      "execution_count": 7,
      "metadata": {
        "colab": {
          "base_uri": "https://localhost:8080/"
        },
        "id": "aIrp-g9IXRc4",
        "outputId": "af6a2056-f94b-4447-b670-733a44d11f11"
      },
      "outputs": [
        {
          "output_type": "stream",
          "name": "stderr",
          "text": [
            "/usr/local/lib/python3.11/dist-packages/sklearn/linear_model/_logistic.py:1247: FutureWarning: 'multi_class' was deprecated in version 1.5 and will be removed in 1.7. From then on, it will always use 'multinomial'. Leave it to its default value to avoid this warning.\n",
            "  warnings.warn(\n"
          ]
        },
        {
          "output_type": "stream",
          "name": "stdout",
          "text": [
            "Baseline Accuracy (Logistic Regression): 0.92225\n"
          ]
        }
      ],
      "source": [
        "# -----------------------------------\n",
        "# 3. Baseline Model (Logistic Regression)\n",
        "# -----------------------------------\n",
        "X_flat = X_norm.reshape(-1, 784)  # flatten for logistic regression\n",
        "X_train_flat, X_val_flat, y_train_flat, y_val_flat = train_test_split(X_flat, y, test_size=0.2, random_state=42)\n",
        "\n",
        "logreg = LogisticRegression(max_iter=1000, solver='lbfgs', multi_class='multinomial')\n",
        "logreg.fit(X_train_flat, y_train_flat)\n",
        "y_pred_logreg = logreg.predict(X_val_flat)\n",
        "print(\"Baseline Accuracy (Logistic Regression):\", accuracy_score(y_val_flat, y_pred_logreg))\n",
        "\n"
      ]
    },
    {
      "cell_type": "markdown",
      "source": [
        "```python\n",
        "Baseline Accuracy: 0.92225\n"
      ],
      "metadata": {
        "id": "Tnfjd2FBeA77"
      }
    },
    {
      "cell_type": "markdown",
      "source": [
        "### 🚀 Step 2: Basic CNN (1 Convolutional Layer + Dense)\n",
        "\n",
        "To move beyond linear models and leverage the spatial structure of the image data, I implemented a simple Convolutional Neural Network (CNN). This model consisted of:\n",
        "\n",
        "- 1 convolutional layer with 32 filters of size 3×3 and ReLU activation\n",
        "- 1 max pooling layer to downsample feature maps\n",
        "- A fully connected dense layer with 128 units\n",
        "- A softmax output layer for 10-class classification\n",
        "\n",
        "This basic CNN introduces locality, parameter sharing, and non-linearity — key components missing from the logistic regression baseline."
      ],
      "metadata": {
        "id": "4E2QzZfYaldF"
      }
    },
    {
      "cell_type": "code",
      "source": [
        "model_1 = Sequential([\n",
        "    Conv2D(32, (3, 3), activation='relu', input_shape=(28, 28, 1)),\n",
        "    MaxPooling2D(pool_size=(2, 2)),\n",
        "    Flatten(),\n",
        "    Dense(128, activation='relu'),\n",
        "    Dense(10, activation='softmax')\n",
        "])\n",
        "\n",
        "model_1.compile(optimizer='adam', loss='categorical_crossentropy', metrics=['accuracy'])\n",
        "\n",
        "history_1 = model_1.fit(X_train, y_train, batch_size=128, epochs=10, validation_data=(X_val, y_val), verbose=2)\n",
        "val_loss, val_acc = model_1.evaluate(X_val, y_val, verbose=0)\n",
        "print(\"Final CNN Validation Accuracy:\", val_acc)"
      ],
      "metadata": {
        "colab": {
          "base_uri": "https://localhost:8080/"
        },
        "id": "EcdYVTU4bUHp",
        "outputId": "d4d5da31-7710-4a1d-a4ed-efcd56933e6d"
      },
      "execution_count": 22,
      "outputs": [
        {
          "output_type": "stream",
          "name": "stdout",
          "text": [
            "Epoch 1/10\n",
            "375/375 - 8s - 21ms/step - accuracy: 0.9259 - loss: 0.2707 - val_accuracy: 0.9700 - val_loss: 0.1046\n",
            "Epoch 2/10\n",
            "375/375 - 1s - 4ms/step - accuracy: 0.9776 - loss: 0.0791 - val_accuracy: 0.9815 - val_loss: 0.0648\n",
            "Epoch 3/10\n",
            "375/375 - 1s - 4ms/step - accuracy: 0.9845 - loss: 0.0522 - val_accuracy: 0.9803 - val_loss: 0.0618\n",
            "Epoch 4/10\n",
            "375/375 - 1s - 4ms/step - accuracy: 0.9884 - loss: 0.0394 - val_accuracy: 0.9831 - val_loss: 0.0544\n",
            "Epoch 5/10\n",
            "375/375 - 1s - 4ms/step - accuracy: 0.9911 - loss: 0.0300 - val_accuracy: 0.9853 - val_loss: 0.0491\n",
            "Epoch 6/10\n",
            "375/375 - 2s - 5ms/step - accuracy: 0.9933 - loss: 0.0228 - val_accuracy: 0.9859 - val_loss: 0.0507\n",
            "Epoch 7/10\n",
            "375/375 - 2s - 6ms/step - accuracy: 0.9945 - loss: 0.0182 - val_accuracy: 0.9852 - val_loss: 0.0495\n",
            "Epoch 8/10\n",
            "375/375 - 1s - 4ms/step - accuracy: 0.9964 - loss: 0.0131 - val_accuracy: 0.9848 - val_loss: 0.0544\n",
            "Epoch 9/10\n",
            "375/375 - 1s - 4ms/step - accuracy: 0.9968 - loss: 0.0112 - val_accuracy: 0.9858 - val_loss: 0.0546\n",
            "Epoch 10/10\n",
            "375/375 - 3s - 7ms/step - accuracy: 0.9978 - loss: 0.0082 - val_accuracy: 0.9837 - val_loss: 0.0622\n",
            "Final CNN Validation Accuracy: 0.9836666584014893\n"
          ]
        }
      ]
    },
    {
      "cell_type": "markdown",
      "source": [
        "\n",
        "```python\n",
        "Simple CNN Accuracy: 0.975\n"
      ],
      "metadata": {
        "id": "pF1A0-pTeFEn"
      }
    },
    {
      "cell_type": "markdown",
      "source": [
        "### 🧠 Step 3: Adding Dropout for Better Generalization\n",
        "\n",
        "To further improve the model’s performance and reduce overfitting, I introduced a powerful regularization and optimization technique:\n",
        "\n",
        "- **Dropout**: Randomly deactivates neurons during training to reduce overfitting and encourage redundancy in learned representations.\n",
        "\n",
        "#### 🔧 Architecture Updates:\n",
        "- Two Conv2D layers (32 and 64 filters)\n",
        "- MaxPooling layer\n",
        "- Dropout layer with rate 0.25\n",
        "- Dense layer with 128 units and ReLU\n",
        "- Dropout layer with rate 0.5 before the final softmax output"
      ],
      "metadata": {
        "id": "g9VqT2k9atOS"
      }
    },
    {
      "cell_type": "code",
      "execution_count": 23,
      "metadata": {
        "colab": {
          "base_uri": "https://localhost:8080/"
        },
        "id": "bq3I6QvYXUda",
        "outputId": "f06e6014-8c46-43eb-fb3c-163a394130ea"
      },
      "outputs": [
        {
          "output_type": "stream",
          "name": "stdout",
          "text": [
            "Epoch 1/15\n",
            "375/375 - 8s - 22ms/step - accuracy: 0.9192 - loss: 0.2658 - val_accuracy: 0.9815 - val_loss: 0.0642\n",
            "Epoch 2/15\n",
            "375/375 - 3s - 7ms/step - accuracy: 0.9728 - loss: 0.0922 - val_accuracy: 0.9863 - val_loss: 0.0459\n",
            "Epoch 3/15\n",
            "375/375 - 3s - 8ms/step - accuracy: 0.9793 - loss: 0.0677 - val_accuracy: 0.9874 - val_loss: 0.0430\n",
            "Epoch 4/15\n",
            "375/375 - 3s - 8ms/step - accuracy: 0.9826 - loss: 0.0557 - val_accuracy: 0.9893 - val_loss: 0.0373\n",
            "Epoch 5/15\n",
            "375/375 - 3s - 7ms/step - accuracy: 0.9848 - loss: 0.0474 - val_accuracy: 0.9883 - val_loss: 0.0426\n",
            "Epoch 6/15\n",
            "375/375 - 3s - 8ms/step - accuracy: 0.9861 - loss: 0.0432 - val_accuracy: 0.9900 - val_loss: 0.0367\n",
            "Epoch 7/15\n",
            "375/375 - 6s - 15ms/step - accuracy: 0.9890 - loss: 0.0355 - val_accuracy: 0.9905 - val_loss: 0.0356\n",
            "Epoch 8/15\n",
            "375/375 - 5s - 12ms/step - accuracy: 0.9896 - loss: 0.0322 - val_accuracy: 0.9899 - val_loss: 0.0377\n",
            "Epoch 9/15\n",
            "375/375 - 5s - 14ms/step - accuracy: 0.9905 - loss: 0.0299 - val_accuracy: 0.9902 - val_loss: 0.0377\n",
            "Epoch 10/15\n",
            "375/375 - 3s - 9ms/step - accuracy: 0.9911 - loss: 0.0272 - val_accuracy: 0.9902 - val_loss: 0.0377\n",
            "Epoch 11/15\n",
            "375/375 - 3s - 8ms/step - accuracy: 0.9913 - loss: 0.0252 - val_accuracy: 0.9922 - val_loss: 0.0346\n",
            "Epoch 12/15\n",
            "375/375 - 3s - 7ms/step - accuracy: 0.9915 - loss: 0.0248 - val_accuracy: 0.9907 - val_loss: 0.0364\n",
            "Epoch 13/15\n",
            "375/375 - 3s - 7ms/step - accuracy: 0.9932 - loss: 0.0196 - val_accuracy: 0.9910 - val_loss: 0.0382\n",
            "Epoch 14/15\n",
            "375/375 - 3s - 7ms/step - accuracy: 0.9930 - loss: 0.0193 - val_accuracy: 0.9912 - val_loss: 0.0371\n",
            "Epoch 15/15\n",
            "375/375 - 3s - 9ms/step - accuracy: 0.9943 - loss: 0.0183 - val_accuracy: 0.9920 - val_loss: 0.0371\n",
            "Final CNN Validation Accuracy: 0.9919999837875366\n"
          ]
        }
      ],
      "source": [
        "model_2 = Sequential([\n",
        "    Conv2D(32, (3, 3), activation='relu', input_shape=(28, 28, 1)),\n",
        "    Conv2D(64, (3, 3), activation='relu'),\n",
        "    MaxPooling2D(pool_size=(2, 2)),\n",
        "    Dropout(0.25),\n",
        "    Flatten(),\n",
        "    Dense(128, activation='relu'),\n",
        "    Dropout(0.5),\n",
        "    Dense(10, activation='softmax')\n",
        "])\n",
        "\n",
        "model_2.compile(loss='categorical_crossentropy', optimizer=Adam(learning_rate=0.001), metrics=['accuracy'])\n",
        "\n",
        "history_2 = model_2.fit(X_train, y_train, batch_size=128, epochs=15, validation_data=(X_val, y_val), verbose=2)\n",
        "\n",
        "val_loss, val_acc = model_2.evaluate(X_val, y_val, verbose=0)\n",
        "print(\"Final CNN Validation Accuracy:\", val_acc)\n"
      ]
    },
    {
      "cell_type": "markdown",
      "source": [
        "```python\n",
        "Improved CNN (Dropout) Accuracy: 0.991\n"
      ],
      "metadata": {
        "id": "__d5RTbxeQwi"
      }
    },
    {
      "cell_type": "markdown",
      "source": [
        "### 🏁 Step 5: Final Tuned CNN — Deeper Network with Enhanced Regularization\n",
        "\n",
        "In this final step, I further deepened the CNN and fine-tuned hyperparameters to maximize performance on the MNIST digit classification task.\n",
        "\n",
        "- **Batch Normalization**: Normalizes activations after each convolutional layer to stabilize and accelerate training.\n",
        "\n",
        "#### 🔧 Enhancements:\n",
        "- Added **two more Conv2D layers** to build a 4-layer convolutional stack\n",
        "- Used **BatchNormalization** after each convolution to stabilize gradients\n",
        "- Increased **filter depth** to 64 in deeper layers\n",
        "- Applied **Dropout** after each max-pooling and dense layer for regularization\n",
        "- Used a **Dense layer with 256 units** to allow greater capacity\n",
        "- Trained with a **larger number of epochs (15)**"
      ],
      "metadata": {
        "id": "50T3nDAKzxwk"
      }
    },
    {
      "cell_type": "code",
      "execution_count": 21,
      "metadata": {
        "id": "zBdxcRnnZME2",
        "colab": {
          "base_uri": "https://localhost:8080/"
        },
        "outputId": "541e35c9-0217-47c3-fc23-9deaa36bf6d8"
      },
      "outputs": [
        {
          "output_type": "stream",
          "name": "stderr",
          "text": [
            "/usr/local/lib/python3.11/dist-packages/keras/src/layers/convolutional/base_conv.py:107: UserWarning: Do not pass an `input_shape`/`input_dim` argument to a layer. When using Sequential models, prefer using an `Input(shape)` object as the first layer in the model instead.\n",
            "  super().__init__(activity_regularizer=activity_regularizer, **kwargs)\n"
          ]
        },
        {
          "output_type": "stream",
          "name": "stdout",
          "text": [
            "Epoch 1/15\n",
            "375/375 - 13s - 35ms/step - accuracy: 0.9387 - loss: 0.1978 - val_accuracy: 0.4193 - val_loss: 1.9111\n",
            "Epoch 2/15\n",
            "375/375 - 5s - 13ms/step - accuracy: 0.9795 - loss: 0.0667 - val_accuracy: 0.9876 - val_loss: 0.0410\n",
            "Epoch 3/15\n",
            "375/375 - 5s - 13ms/step - accuracy: 0.9844 - loss: 0.0497 - val_accuracy: 0.9906 - val_loss: 0.0332\n",
            "Epoch 4/15\n",
            "375/375 - 5s - 14ms/step - accuracy: 0.9866 - loss: 0.0415 - val_accuracy: 0.9889 - val_loss: 0.0349\n",
            "Epoch 5/15\n",
            "375/375 - 4s - 10ms/step - accuracy: 0.9890 - loss: 0.0358 - val_accuracy: 0.9899 - val_loss: 0.0352\n",
            "Epoch 6/15\n",
            "375/375 - 4s - 10ms/step - accuracy: 0.9907 - loss: 0.0298 - val_accuracy: 0.9908 - val_loss: 0.0306\n",
            "Epoch 7/15\n",
            "375/375 - 4s - 11ms/step - accuracy: 0.9924 - loss: 0.0246 - val_accuracy: 0.9897 - val_loss: 0.0329\n",
            "Epoch 8/15\n",
            "375/375 - 5s - 12ms/step - accuracy: 0.9915 - loss: 0.0270 - val_accuracy: 0.9908 - val_loss: 0.0306\n",
            "Epoch 9/15\n",
            "375/375 - 5s - 14ms/step - accuracy: 0.9923 - loss: 0.0246 - val_accuracy: 0.9915 - val_loss: 0.0321\n",
            "Epoch 10/15\n",
            "375/375 - 5s - 14ms/step - accuracy: 0.9930 - loss: 0.0226 - val_accuracy: 0.9927 - val_loss: 0.0257\n",
            "Epoch 11/15\n",
            "375/375 - 5s - 13ms/step - accuracy: 0.9935 - loss: 0.0211 - val_accuracy: 0.9925 - val_loss: 0.0302\n",
            "Epoch 12/15\n",
            "375/375 - 5s - 14ms/step - accuracy: 0.9946 - loss: 0.0169 - val_accuracy: 0.9934 - val_loss: 0.0246\n",
            "Epoch 13/15\n",
            "375/375 - 4s - 10ms/step - accuracy: 0.9944 - loss: 0.0165 - val_accuracy: 0.9913 - val_loss: 0.0320\n",
            "Epoch 14/15\n",
            "375/375 - 4s - 10ms/step - accuracy: 0.9936 - loss: 0.0178 - val_accuracy: 0.9904 - val_loss: 0.0315\n",
            "Epoch 15/15\n",
            "375/375 - 5s - 14ms/step - accuracy: 0.9944 - loss: 0.0160 - val_accuracy: 0.9934 - val_loss: 0.0288\n",
            "Enhanced CNN Validation Accuracy: 0.9934166669845581\n"
          ]
        }
      ],
      "source": [
        "from tensorflow.keras.models import Sequential\n",
        "from tensorflow.keras.layers import Conv2D, MaxPooling2D, BatchNormalization, Dropout\n",
        "from tensorflow.keras.layers import Flatten, Dense\n",
        "from tensorflow.keras.optimizers import Adam\n",
        "\n",
        "model_3 = Sequential([\n",
        "    Conv2D(32, (3, 3), activation='relu', padding='same', input_shape=(28, 28, 1)),\n",
        "    BatchNormalization(),\n",
        "    Conv2D(32, (3, 3), activation='relu', padding='same'),\n",
        "    BatchNormalization(),\n",
        "    MaxPooling2D(pool_size=(2, 2)),\n",
        "    Dropout(0.25),\n",
        "\n",
        "    Conv2D(64, (3, 3), activation='relu', padding='same'),\n",
        "    BatchNormalization(),\n",
        "    Conv2D(64, (3, 3), activation='relu', padding='same'),\n",
        "    BatchNormalization(),\n",
        "    MaxPooling2D(pool_size=(2, 2)),\n",
        "    Dropout(0.25),\n",
        "\n",
        "    Flatten(),\n",
        "    Dense(256, activation='relu'),\n",
        "    BatchNormalization(),\n",
        "    Dropout(0.5),\n",
        "    Dense(10, activation='softmax')\n",
        "])\n",
        "\n",
        "model_3.compile(\n",
        "    loss='categorical_crossentropy',\n",
        "    optimizer=Adam(learning_rate=0.001),\n",
        "    metrics=['accuracy']\n",
        ")\n",
        "\n",
        "# Train\n",
        "history_3 = model_3.fit(\n",
        "    X_train, y_train,\n",
        "    batch_size=128,\n",
        "    epochs=15,\n",
        "    validation_data=(X_val, y_val),\n",
        "    verbose=2\n",
        ")\n",
        "\n",
        "# Evaluate\n",
        "val_loss, val_acc = model_3.evaluate(X_val, y_val, verbose=0)\n",
        "print(\"Enhanced CNN Validation Accuracy:\", val_acc)\n"
      ]
    },
    {
      "cell_type": "code",
      "source": [
        "import matplotlib.pyplot as plt\n",
        "\n",
        "# Plot accuracy\n",
        "plt.figure(figsize=(8, 5))\n",
        "plt.plot(history_3.history['accuracy'], label='Training Accuracy')\n",
        "plt.plot(history_3.history['val_accuracy'], label='Validation Accuracy')\n",
        "plt.title('Model Accuracy vs Epoch')\n",
        "plt.xlabel('Epoch')\n",
        "plt.ylabel('Accuracy')\n",
        "plt.legend()\n",
        "plt.grid(True)\n",
        "plt.show()\n",
        "plt.savefig(\"model_accuracy.png\")"
      ],
      "metadata": {
        "colab": {
          "base_uri": "https://localhost:8080/",
          "height": 487
        },
        "id": "YTSFDMEy2W70",
        "outputId": "fad807b4-e93e-4634-81ff-d145bc34d2b8"
      },
      "execution_count": 20,
      "outputs": [
        {
          "output_type": "display_data",
          "data": {
            "text/plain": [
              "<Figure size 800x500 with 1 Axes>"
            ],
            "image/png": "[encoded data removed]"
          },
          "metadata": {}
        },
        {
          "output_type": "display_data",
          "data": {
            "text/plain": [
              "<Figure size 640x480 with 0 Axes>"
            ]
          },
          "metadata": {}
        }
      ]
    },
    {
      "cell_type": "markdown",
      "source": [
        "```python\n",
        "Final Tuned CNN Accuracy: 0.993\n"
      ],
      "metadata": {
        "id": "J_wpJYgd1Y5M"
      }
    },
    {
      "cell_type": "code",
      "source": [
        "# Save full model architecture + weights\n",
        "model_3.save(\"finalcnnmodel.h5\")\n",
        "print(\"Model saved to final_cnn_model.h5\")"
      ],
      "metadata": {
        "colab": {
          "base_uri": "https://localhost:8080/"
        },
        "id": "B0miHE4J481n",
        "outputId": "0ea96e07-f946-49b3-fde9-f14f0115782d"
      },
      "execution_count": 17,
      "outputs": [
        {
          "output_type": "stream",
          "name": "stderr",
          "text": [
            "WARNING:absl:You are saving your model as an HDF5 file via `model.save()` or `keras.saving.save_model(model)`. This file format is considered legacy. We recommend using instead the native Keras format, e.g. `model.save('my_model.keras')` or `keras.saving.save_model(model, 'my_model.keras')`. \n"
          ]
        },
        {
          "output_type": "stream",
          "name": "stdout",
          "text": [
            "Model saved to final_cnn_model.h5\n"
          ]
        }
      ]
    },
    {
      "cell_type": "code",
      "source": [
        "from tensorflow.keras.models import load_model\n",
        "import pandas as pd\n",
        "import numpy as np\n",
        "import gdown\n",
        "\n",
        "# file_id = '1zdxhdlRt4jPoy5iznWvR_88Mz7aRXLjv'  # replace with your actual file ID\n",
        "# url2 = f'https://drive.google.com/uc?id={file_id}'\n",
        "\n",
        "# gdown.download(url, 'finalcnnmodel.h5', quiet=False)\n",
        "loaded_model = load_model(\"finalcnnmodel.h5\")\n",
        "print(\"Model loaded successfully!\")\n",
        "\n",
        "sample_test = pd.read_csv(\"/content/drive/MyDrive/sample_test.csv\").values\n",
        "sample_test = sample_test / 255.0\n",
        "sample_test = sample_test.reshape(-1, 28, 28, 1)\n",
        "\n",
        "predictions = loaded_model.predict(sample_test)\n",
        "pred_labels = np.argmax(predictions, axis=1)\n",
        "\n",
        "submission = pd.DataFrame({'Id': np.arange(1, len(pred_labels)+1), 'Label': pred_labels})\n",
        "submission.to_csv(\"submission.csv\", index=False)\n",
        "print(\"Predictions saved to submission.csv\")"
      ],
      "metadata": {
        "colab": {
          "base_uri": "https://localhost:8080/"
        },
        "id": "IdDkfTDKaN8u",
        "outputId": "42f6f065-5cf4-455f-dae8-05641e195e0f"
      },
      "execution_count": 18,
      "outputs": [
        {
          "output_type": "stream",
          "name": "stderr",
          "text": [
            "WARNING:absl:Compiled the loaded model, but the compiled metrics have yet to be built. `model.compile_metrics` will be empty until you train or evaluate the model.\n"
          ]
        },
        {
          "output_type": "stream",
          "name": "stdout",
          "text": [
            "Model loaded successfully!\n",
            "\u001b[1m7/7\u001b[0m \u001b[32m━━━━━━━━━━━━━━━━━━━━\u001b[0m\u001b[37m\u001b[0m \u001b[1m1s\u001b[0m 91ms/step\n",
            "Predictions saved to submission.csv\n"
          ]
        }
      ]
    }
  ],
  "metadata": {
    "accelerator": "GPU",
    "colab": {
      "gpuType": "T4",
      "provenance": []
    },
    "kernelspec": {
      "display_name": "Python 3",
      "name": "python3"
    },
    "language_info": {
      "name": "python"
    }
  },
  "nbformat": 4,
  "nbformat_minor": 0
}